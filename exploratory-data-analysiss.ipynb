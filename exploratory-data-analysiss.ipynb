{
 "cells": [
  {
   "cell_type": "markdown",
   "metadata": {
    "papermill": {
     "duration": 0.034463,
     "end_time": "2021-05-23T18:42:28.995780",
     "exception": false,
     "start_time": "2021-05-23T18:42:28.961317",
     "status": "completed"
    },
    "tags": []
   },
   "source": [
    "## Keşifçi Veri Analizi | Becerileri Pekiştirme"
   ]
  },
  {
   "cell_type": "markdown",
   "metadata": {
    "papermill": {
     "duration": 0.031689,
     "end_time": "2021-05-23T18:42:29.062163",
     "exception": false,
     "start_time": "2021-05-23T18:42:29.030474",
     "status": "completed"
    },
    "tags": []
   },
   "source": [
    "Aşağıda ihtiyacımız doğrultusunda kullanacağımız kütüphaneleri yükleyelim."
   ]
  },
  {
   "cell_type": "code",
   "execution_count": 1,
   "metadata": {
    "execution": {
     "iopub.execute_input": "2021-05-23T18:42:29.130584Z",
     "iopub.status.busy": "2021-05-23T18:42:29.129861Z",
     "iopub.status.idle": "2021-05-23T18:42:30.041056Z",
     "shell.execute_reply": "2021-05-23T18:42:30.040105Z"
    },
    "papermill": {
     "duration": 0.946868,
     "end_time": "2021-05-23T18:42:30.041284",
     "exception": false,
     "start_time": "2021-05-23T18:42:29.094416",
     "status": "completed"
    },
    "tags": []
   },
   "outputs": [],
   "source": [
    "import numpy as np\n",
    "import seaborn as sns\n",
    "import pandas as pd"
   ]
  },
  {
   "cell_type": "markdown",
   "metadata": {
    "papermill": {
     "duration": 0.035238,
     "end_time": "2021-05-23T18:42:30.113191",
     "exception": false,
     "start_time": "2021-05-23T18:42:30.077953",
     "status": "completed"
    },
    "tags": []
   },
   "source": [
    "Veri çerçevemizi bulunduğumuz dizinden yükleyelim ve bir veri çerçevesi haline getirerek df değişkenine atayalım. (pd.read_csv(...csv))"
   ]
  },
  {
   "cell_type": "code",
   "execution_count": 2,
   "metadata": {
    "execution": {
     "iopub.execute_input": "2021-05-23T18:42:30.184936Z",
     "iopub.status.busy": "2021-05-23T18:42:30.184249Z",
     "iopub.status.idle": "2021-05-23T18:42:30.205400Z",
     "shell.execute_reply": "2021-05-23T18:42:30.204772Z"
    },
    "papermill": {
     "duration": 0.059305,
     "end_time": "2021-05-23T18:42:30.205562",
     "exception": false,
     "start_time": "2021-05-23T18:42:30.146257",
     "status": "completed"
    },
    "tags": []
   },
   "outputs": [],
   "source": [
    "df = pd.read_csv(\"../input/iris-flower-dataset/IRIS.csv\")"
   ]
  },
  {
   "cell_type": "markdown",
   "metadata": {
    "papermill": {
     "duration": 0.03301,
     "end_time": "2021-05-23T18:42:30.271382",
     "exception": false,
     "start_time": "2021-05-23T18:42:30.238372",
     "status": "completed"
    },
    "tags": []
   },
   "source": [
    "Veri çerçevesinin ilk 5 gözlemini görüntüleyelim."
   ]
  },
  {
   "cell_type": "code",
   "execution_count": 3,
   "metadata": {
    "execution": {
     "iopub.execute_input": "2021-05-23T18:42:30.339822Z",
     "iopub.status.busy": "2021-05-23T18:42:30.339195Z",
     "iopub.status.idle": "2021-05-23T18:42:30.375262Z",
     "shell.execute_reply": "2021-05-23T18:42:30.374700Z"
    },
    "papermill": {
     "duration": 0.071339,
     "end_time": "2021-05-23T18:42:30.375429",
     "exception": false,
     "start_time": "2021-05-23T18:42:30.304090",
     "status": "completed"
    },
    "tags": []
   },
   "outputs": [
    {
     "data": {
      "text/html": [
       "<div>\n",
       "<style scoped>\n",
       "    .dataframe tbody tr th:only-of-type {\n",
       "        vertical-align: middle;\n",
       "    }\n",
       "\n",
       "    .dataframe tbody tr th {\n",
       "        vertical-align: top;\n",
       "    }\n",
       "\n",
       "    .dataframe thead th {\n",
       "        text-align: right;\n",
       "    }\n",
       "</style>\n",
       "<table border=\"1\" class=\"dataframe\">\n",
       "  <thead>\n",
       "    <tr style=\"text-align: right;\">\n",
       "      <th></th>\n",
       "      <th>sepal_length</th>\n",
       "      <th>sepal_width</th>\n",
       "      <th>petal_length</th>\n",
       "      <th>petal_width</th>\n",
       "      <th>species</th>\n",
       "    </tr>\n",
       "  </thead>\n",
       "  <tbody>\n",
       "    <tr>\n",
       "      <th>0</th>\n",
       "      <td>5.1</td>\n",
       "      <td>3.5</td>\n",
       "      <td>1.4</td>\n",
       "      <td>0.2</td>\n",
       "      <td>Iris-setosa</td>\n",
       "    </tr>\n",
       "    <tr>\n",
       "      <th>1</th>\n",
       "      <td>4.9</td>\n",
       "      <td>3.0</td>\n",
       "      <td>1.4</td>\n",
       "      <td>0.2</td>\n",
       "      <td>Iris-setosa</td>\n",
       "    </tr>\n",
       "    <tr>\n",
       "      <th>2</th>\n",
       "      <td>4.7</td>\n",
       "      <td>3.2</td>\n",
       "      <td>1.3</td>\n",
       "      <td>0.2</td>\n",
       "      <td>Iris-setosa</td>\n",
       "    </tr>\n",
       "    <tr>\n",
       "      <th>3</th>\n",
       "      <td>4.6</td>\n",
       "      <td>3.1</td>\n",
       "      <td>1.5</td>\n",
       "      <td>0.2</td>\n",
       "      <td>Iris-setosa</td>\n",
       "    </tr>\n",
       "    <tr>\n",
       "      <th>4</th>\n",
       "      <td>5.0</td>\n",
       "      <td>3.6</td>\n",
       "      <td>1.4</td>\n",
       "      <td>0.2</td>\n",
       "      <td>Iris-setosa</td>\n",
       "    </tr>\n",
       "  </tbody>\n",
       "</table>\n",
       "</div>"
      ],
      "text/plain": [
       "   sepal_length  sepal_width  petal_length  petal_width      species\n",
       "0           5.1          3.5           1.4          0.2  Iris-setosa\n",
       "1           4.9          3.0           1.4          0.2  Iris-setosa\n",
       "2           4.7          3.2           1.3          0.2  Iris-setosa\n",
       "3           4.6          3.1           1.5          0.2  Iris-setosa\n",
       "4           5.0          3.6           1.4          0.2  Iris-setosa"
      ]
     },
     "execution_count": 3,
     "metadata": {},
     "output_type": "execute_result"
    }
   ],
   "source": [
    "df.head()"
   ]
  },
  {
   "cell_type": "markdown",
   "metadata": {
    "papermill": {
     "duration": 0.032985,
     "end_time": "2021-05-23T18:42:30.442198",
     "exception": false,
     "start_time": "2021-05-23T18:42:30.409213",
     "status": "completed"
    },
    "tags": []
   },
   "source": [
    "Veri çerçevesinin kaç öznitelik ve kaç gözlemden oluştuğunu görüntüleyelim."
   ]
  },
  {
   "cell_type": "code",
   "execution_count": 4,
   "metadata": {
    "execution": {
     "iopub.execute_input": "2021-05-23T18:42:30.515085Z",
     "iopub.status.busy": "2021-05-23T18:42:30.514425Z",
     "iopub.status.idle": "2021-05-23T18:42:30.518064Z",
     "shell.execute_reply": "2021-05-23T18:42:30.517558Z"
    },
    "papermill": {
     "duration": 0.042572,
     "end_time": "2021-05-23T18:42:30.518208",
     "exception": false,
     "start_time": "2021-05-23T18:42:30.475636",
     "status": "completed"
    },
    "tags": []
   },
   "outputs": [
    {
     "data": {
      "text/plain": [
       "(150, 5)"
      ]
     },
     "execution_count": 4,
     "metadata": {},
     "output_type": "execute_result"
    }
   ],
   "source": [
    "df.shape"
   ]
  },
  {
   "cell_type": "markdown",
   "metadata": {
    "papermill": {
     "duration": 0.033653,
     "end_time": "2021-05-23T18:42:30.585675",
     "exception": false,
     "start_time": "2021-05-23T18:42:30.552022",
     "status": "completed"
    },
    "tags": []
   },
   "source": [
    "Veri çerçevesindeki değişkenlerin hangi tipte olduğunu ve bellek kullanımını görüntüleyelim."
   ]
  },
  {
   "cell_type": "code",
   "execution_count": 5,
   "metadata": {
    "execution": {
     "iopub.execute_input": "2021-05-23T18:42:30.670207Z",
     "iopub.status.busy": "2021-05-23T18:42:30.669122Z",
     "iopub.status.idle": "2021-05-23T18:42:30.676550Z",
     "shell.execute_reply": "2021-05-23T18:42:30.676018Z"
    },
    "papermill": {
     "duration": 0.057068,
     "end_time": "2021-05-23T18:42:30.676719",
     "exception": false,
     "start_time": "2021-05-23T18:42:30.619651",
     "status": "completed"
    },
    "tags": []
   },
   "outputs": [
    {
     "name": "stdout",
     "output_type": "stream",
     "text": [
      "<class 'pandas.core.frame.DataFrame'>\n",
      "RangeIndex: 150 entries, 0 to 149\n",
      "Data columns (total 5 columns):\n",
      " #   Column        Non-Null Count  Dtype  \n",
      "---  ------        --------------  -----  \n",
      " 0   sepal_length  150 non-null    float64\n",
      " 1   sepal_width   150 non-null    float64\n",
      " 2   petal_length  150 non-null    float64\n",
      " 3   petal_width   150 non-null    float64\n",
      " 4   species       150 non-null    object \n",
      "dtypes: float64(4), object(1)\n",
      "memory usage: 6.0+ KB\n"
     ]
    }
   ],
   "source": [
    "df.info()"
   ]
  },
  {
   "cell_type": "markdown",
   "metadata": {
    "papermill": {
     "duration": 0.034087,
     "end_time": "2021-05-23T18:42:30.745042",
     "exception": false,
     "start_time": "2021-05-23T18:42:30.710955",
     "status": "completed"
    },
    "tags": []
   },
   "source": [
    "Veri çerçevesindeki sayısal değişkenler için temel istatistik değerlerini görüntüleyelim.\n",
    "\n",
    "Standart sapma ve ortalama değerlerden çıkarımda bulunarak hangi değişkenlerin ne kadar varyansa sahip olduğu hakkında fikir yürütelim."
   ]
  },
  {
   "cell_type": "code",
   "execution_count": 6,
   "metadata": {
    "execution": {
     "iopub.execute_input": "2021-05-23T18:42:30.827995Z",
     "iopub.status.busy": "2021-05-23T18:42:30.826023Z",
     "iopub.status.idle": "2021-05-23T18:42:30.848135Z",
     "shell.execute_reply": "2021-05-23T18:42:30.847557Z"
    },
    "papermill": {
     "duration": 0.068748,
     "end_time": "2021-05-23T18:42:30.848292",
     "exception": false,
     "start_time": "2021-05-23T18:42:30.779544",
     "status": "completed"
    },
    "tags": []
   },
   "outputs": [
    {
     "data": {
      "text/html": [
       "<div>\n",
       "<style scoped>\n",
       "    .dataframe tbody tr th:only-of-type {\n",
       "        vertical-align: middle;\n",
       "    }\n",
       "\n",
       "    .dataframe tbody tr th {\n",
       "        vertical-align: top;\n",
       "    }\n",
       "\n",
       "    .dataframe thead th {\n",
       "        text-align: right;\n",
       "    }\n",
       "</style>\n",
       "<table border=\"1\" class=\"dataframe\">\n",
       "  <thead>\n",
       "    <tr style=\"text-align: right;\">\n",
       "      <th></th>\n",
       "      <th>count</th>\n",
       "      <th>mean</th>\n",
       "      <th>std</th>\n",
       "      <th>min</th>\n",
       "      <th>25%</th>\n",
       "      <th>50%</th>\n",
       "      <th>75%</th>\n",
       "      <th>max</th>\n",
       "    </tr>\n",
       "  </thead>\n",
       "  <tbody>\n",
       "    <tr>\n",
       "      <th>sepal_length</th>\n",
       "      <td>150.0</td>\n",
       "      <td>5.843333</td>\n",
       "      <td>0.828066</td>\n",
       "      <td>4.3</td>\n",
       "      <td>5.1</td>\n",
       "      <td>5.80</td>\n",
       "      <td>6.4</td>\n",
       "      <td>7.9</td>\n",
       "    </tr>\n",
       "    <tr>\n",
       "      <th>sepal_width</th>\n",
       "      <td>150.0</td>\n",
       "      <td>3.054000</td>\n",
       "      <td>0.433594</td>\n",
       "      <td>2.0</td>\n",
       "      <td>2.8</td>\n",
       "      <td>3.00</td>\n",
       "      <td>3.3</td>\n",
       "      <td>4.4</td>\n",
       "    </tr>\n",
       "    <tr>\n",
       "      <th>petal_length</th>\n",
       "      <td>150.0</td>\n",
       "      <td>3.758667</td>\n",
       "      <td>1.764420</td>\n",
       "      <td>1.0</td>\n",
       "      <td>1.6</td>\n",
       "      <td>4.35</td>\n",
       "      <td>5.1</td>\n",
       "      <td>6.9</td>\n",
       "    </tr>\n",
       "    <tr>\n",
       "      <th>petal_width</th>\n",
       "      <td>150.0</td>\n",
       "      <td>1.198667</td>\n",
       "      <td>0.763161</td>\n",
       "      <td>0.1</td>\n",
       "      <td>0.3</td>\n",
       "      <td>1.30</td>\n",
       "      <td>1.8</td>\n",
       "      <td>2.5</td>\n",
       "    </tr>\n",
       "  </tbody>\n",
       "</table>\n",
       "</div>"
      ],
      "text/plain": [
       "              count      mean       std  min  25%   50%  75%  max\n",
       "sepal_length  150.0  5.843333  0.828066  4.3  5.1  5.80  6.4  7.9\n",
       "sepal_width   150.0  3.054000  0.433594  2.0  2.8  3.00  3.3  4.4\n",
       "petal_length  150.0  3.758667  1.764420  1.0  1.6  4.35  5.1  6.9\n",
       "petal_width   150.0  1.198667  0.763161  0.1  0.3  1.30  1.8  2.5"
      ]
     },
     "execution_count": 6,
     "metadata": {},
     "output_type": "execute_result"
    }
   ],
   "source": [
    "df.describe().T #Varyans standart sapmanın karesine eşittir.Yani std değerlerinin karesini alarak her bir değişkenin varyansı bulunabilir."
   ]
  },
  {
   "cell_type": "markdown",
   "metadata": {
    "papermill": {
     "duration": 0.034326,
     "end_time": "2021-05-23T18:42:30.917592",
     "exception": false,
     "start_time": "2021-05-23T18:42:30.883266",
     "status": "completed"
    },
    "tags": []
   },
   "source": [
    "Veri çerçevesinde hangi öznitelikte kaç adet eksik değer olduğunu gözlemleyelim."
   ]
  },
  {
   "cell_type": "code",
   "execution_count": 7,
   "metadata": {
    "execution": {
     "iopub.execute_input": "2021-05-23T18:42:30.995959Z",
     "iopub.status.busy": "2021-05-23T18:42:30.995305Z",
     "iopub.status.idle": "2021-05-23T18:42:30.999470Z",
     "shell.execute_reply": "2021-05-23T18:42:30.998913Z"
    },
    "papermill": {
     "duration": 0.046768,
     "end_time": "2021-05-23T18:42:30.999644",
     "exception": false,
     "start_time": "2021-05-23T18:42:30.952876",
     "status": "completed"
    },
    "tags": []
   },
   "outputs": [
    {
     "data": {
      "text/plain": [
       "sepal_length    0\n",
       "sepal_width     0\n",
       "petal_length    0\n",
       "petal_width     0\n",
       "species         0\n",
       "dtype: int64"
      ]
     },
     "execution_count": 7,
     "metadata": {},
     "output_type": "execute_result"
    }
   ],
   "source": [
    "df.isna().sum()"
   ]
  },
  {
   "cell_type": "markdown",
   "metadata": {
    "papermill": {
     "duration": 0.035222,
     "end_time": "2021-05-23T18:42:31.070197",
     "exception": false,
     "start_time": "2021-05-23T18:42:31.034975",
     "status": "completed"
    },
    "tags": []
   },
   "source": [
    "Sayısal değişkenler arasında korelasyon olup olmadığını göstermek için korelasyon matrisi çizdirelim. Korelasyon katsayıları hakkında fikir yürütelim.\n",
    "\n",
    "En güçlü pozitif ilişki hangi iki değişken arasındadır?"
   ]
  },
  {
   "cell_type": "code",
   "execution_count": 8,
   "metadata": {
    "execution": {
     "iopub.execute_input": "2021-05-23T18:42:31.158167Z",
     "iopub.status.busy": "2021-05-23T18:42:31.154428Z",
     "iopub.status.idle": "2021-05-23T18:42:31.162545Z",
     "shell.execute_reply": "2021-05-23T18:42:31.161966Z"
    },
    "papermill": {
     "duration": 0.054277,
     "end_time": "2021-05-23T18:42:31.162707",
     "exception": false,
     "start_time": "2021-05-23T18:42:31.108430",
     "status": "completed"
    },
    "tags": []
   },
   "outputs": [
    {
     "data": {
      "text/html": [
       "<div>\n",
       "<style scoped>\n",
       "    .dataframe tbody tr th:only-of-type {\n",
       "        vertical-align: middle;\n",
       "    }\n",
       "\n",
       "    .dataframe tbody tr th {\n",
       "        vertical-align: top;\n",
       "    }\n",
       "\n",
       "    .dataframe thead th {\n",
       "        text-align: right;\n",
       "    }\n",
       "</style>\n",
       "<table border=\"1\" class=\"dataframe\">\n",
       "  <thead>\n",
       "    <tr style=\"text-align: right;\">\n",
       "      <th></th>\n",
       "      <th>sepal_length</th>\n",
       "      <th>sepal_width</th>\n",
       "      <th>petal_length</th>\n",
       "      <th>petal_width</th>\n",
       "    </tr>\n",
       "  </thead>\n",
       "  <tbody>\n",
       "    <tr>\n",
       "      <th>sepal_length</th>\n",
       "      <td>1.000000</td>\n",
       "      <td>-0.109369</td>\n",
       "      <td>0.871754</td>\n",
       "      <td>0.817954</td>\n",
       "    </tr>\n",
       "    <tr>\n",
       "      <th>sepal_width</th>\n",
       "      <td>-0.109369</td>\n",
       "      <td>1.000000</td>\n",
       "      <td>-0.420516</td>\n",
       "      <td>-0.356544</td>\n",
       "    </tr>\n",
       "    <tr>\n",
       "      <th>petal_length</th>\n",
       "      <td>0.871754</td>\n",
       "      <td>-0.420516</td>\n",
       "      <td>1.000000</td>\n",
       "      <td>0.962757</td>\n",
       "    </tr>\n",
       "    <tr>\n",
       "      <th>petal_width</th>\n",
       "      <td>0.817954</td>\n",
       "      <td>-0.356544</td>\n",
       "      <td>0.962757</td>\n",
       "      <td>1.000000</td>\n",
       "    </tr>\n",
       "  </tbody>\n",
       "</table>\n",
       "</div>"
      ],
      "text/plain": [
       "              sepal_length  sepal_width  petal_length  petal_width\n",
       "sepal_length      1.000000    -0.109369      0.871754     0.817954\n",
       "sepal_width      -0.109369     1.000000     -0.420516    -0.356544\n",
       "petal_length      0.871754    -0.420516      1.000000     0.962757\n",
       "petal_width       0.817954    -0.356544      0.962757     1.000000"
      ]
     },
     "execution_count": 8,
     "metadata": {},
     "output_type": "execute_result"
    }
   ],
   "source": [
    "df.corr()  #En güçlü ilişki petal.length ile petal width arasındadır."
   ]
  },
  {
   "cell_type": "markdown",
   "metadata": {
    "papermill": {
     "duration": 0.036841,
     "end_time": "2021-05-23T18:42:31.235506",
     "exception": false,
     "start_time": "2021-05-23T18:42:31.198665",
     "status": "completed"
    },
    "tags": []
   },
   "source": [
    "Korelasyon katsayılarını daha iyi okuyabilmek için ısı haritası çizdirelim."
   ]
  },
  {
   "cell_type": "code",
   "execution_count": 9,
   "metadata": {
    "execution": {
     "iopub.execute_input": "2021-05-23T18:42:31.332596Z",
     "iopub.status.busy": "2021-05-23T18:42:31.331844Z",
     "iopub.status.idle": "2021-05-23T18:42:31.562955Z",
     "shell.execute_reply": "2021-05-23T18:42:31.562302Z"
    },
    "papermill": {
     "duration": 0.290797,
     "end_time": "2021-05-23T18:42:31.563099",
     "exception": false,
     "start_time": "2021-05-23T18:42:31.272302",
     "status": "completed"
    },
    "tags": []
   },
   "outputs": [
    {
     "data": {
      "image/png": "[encoded data removed]",
      "text/plain": [
       "<Figure size 432x288 with 2 Axes>"
      ]
     },
     "metadata": {
      "needs_background": "light"
     },
     "output_type": "display_data"
    }
   ],
   "source": [
    "corr = df.corr()\n",
    "sns.heatmap(corr, \n",
    "            xticklabels=corr.columns.values,\n",
    "            yticklabels=corr.columns.values);"
   ]
  },
  {
   "cell_type": "markdown",
   "metadata": {
    "papermill": {
     "duration": 0.036329,
     "end_time": "2021-05-23T18:42:31.636690",
     "exception": false,
     "start_time": "2021-05-23T18:42:31.600361",
     "status": "completed"
    },
    "tags": []
   },
   "source": [
    "Veri çerçevemizin hedef değişkeninin \"species\" benzersiz değerlerini görüntüleyelim."
   ]
  },
  {
   "cell_type": "code",
   "execution_count": 10,
   "metadata": {
    "execution": {
     "iopub.execute_input": "2021-05-23T18:42:31.717547Z",
     "iopub.status.busy": "2021-05-23T18:42:31.716888Z",
     "iopub.status.idle": "2021-05-23T18:42:31.721762Z",
     "shell.execute_reply": "2021-05-23T18:42:31.721218Z"
    },
    "papermill": {
     "duration": 0.047696,
     "end_time": "2021-05-23T18:42:31.721914",
     "exception": false,
     "start_time": "2021-05-23T18:42:31.674218",
     "status": "completed"
    },
    "tags": []
   },
   "outputs": [
    {
     "data": {
      "text/plain": [
       "array(['Iris-setosa', 'Iris-versicolor', 'Iris-virginica'], dtype=object)"
      ]
     },
     "execution_count": 10,
     "metadata": {},
     "output_type": "execute_result"
    }
   ],
   "source": [
    "df[\"species\"].unique()"
   ]
  },
  {
   "cell_type": "markdown",
   "metadata": {
    "papermill": {
     "duration": 0.037428,
     "end_time": "2021-05-23T18:42:31.796482",
     "exception": false,
     "start_time": "2021-05-23T18:42:31.759054",
     "status": "completed"
    },
    "tags": []
   },
   "source": [
    "Veri çerçevemizin hedef değişkeninin \"species\" benzersiz kaç adet değer içerdiğini görüntüleyelim."
   ]
  },
  {
   "cell_type": "code",
   "execution_count": 11,
   "metadata": {
    "execution": {
     "iopub.execute_input": "2021-05-23T18:42:31.877519Z",
     "iopub.status.busy": "2021-05-23T18:42:31.876886Z",
     "iopub.status.idle": "2021-05-23T18:42:31.882217Z",
     "shell.execute_reply": "2021-05-23T18:42:31.881689Z"
    },
    "papermill": {
     "duration": 0.048464,
     "end_time": "2021-05-23T18:42:31.882390",
     "exception": false,
     "start_time": "2021-05-23T18:42:31.833926",
     "status": "completed"
    },
    "tags": []
   },
   "outputs": [
    {
     "data": {
      "text/plain": [
       "3"
      ]
     },
     "execution_count": 11,
     "metadata": {},
     "output_type": "execute_result"
    }
   ],
   "source": [
    "df[\"species\"].nunique()"
   ]
  },
  {
   "cell_type": "markdown",
   "metadata": {
    "papermill": {
     "duration": 0.037688,
     "end_time": "2021-05-23T18:42:31.957466",
     "exception": false,
     "start_time": "2021-05-23T18:42:31.919778",
     "status": "completed"
    },
    "tags": []
   },
   "source": [
    "Veri çerçevesindeki sepal.width ve sepal.length değişkenlerinin sürekli olduğunu görüyoruz. Bu iki sürekli veriyi görselleştirmek için önce scatterplot kullanalım."
   ]
  },
  {
   "cell_type": "code",
   "execution_count": 12,
   "metadata": {
    "execution": {
     "iopub.execute_input": "2021-05-23T18:42:32.062744Z",
     "iopub.status.busy": "2021-05-23T18:42:32.062076Z",
     "iopub.status.idle": "2021-05-23T18:42:32.260535Z",
     "shell.execute_reply": "2021-05-23T18:42:32.259893Z"
    },
    "papermill": {
     "duration": 0.264902,
     "end_time": "2021-05-23T18:42:32.260671",
     "exception": false,
     "start_time": "2021-05-23T18:42:31.995769",
     "status": "completed"
    },
    "tags": []
   },
   "outputs": [
    {
     "data": {
      "image/png": "[encoded data removed]",
      "text/plain": [
       "<Figure size 432x288 with 1 Axes>"
      ]
     },
     "metadata": {
      "needs_background": "light"
     },
     "output_type": "display_data"
    }
   ],
   "source": [
    "sns.scatterplot(x = \"sepal_width\", y = \"sepal_length\", data = df);"
   ]
  },
  {
   "cell_type": "markdown",
   "metadata": {
    "papermill": {
     "duration": 0.03833,
     "end_time": "2021-05-23T18:42:32.338267",
     "exception": false,
     "start_time": "2021-05-23T18:42:32.299937",
     "status": "completed"
    },
    "tags": []
   },
   "source": [
    "Aynı iki veriyi daha farklı bir açıdan frekanslarıyla incelemek için jointplot kullanarak görselleştirelim. "
   ]
  },
  {
   "cell_type": "code",
   "execution_count": 13,
   "metadata": {
    "execution": {
     "iopub.execute_input": "2021-05-23T18:42:32.542820Z",
     "iopub.status.busy": "2021-05-23T18:42:32.542098Z",
     "iopub.status.idle": "2021-05-23T18:42:32.966501Z",
     "shell.execute_reply": "2021-05-23T18:42:32.965907Z"
    },
    "papermill": {
     "duration": 0.589681,
     "end_time": "2021-05-23T18:42:32.966657",
     "exception": false,
     "start_time": "2021-05-23T18:42:32.376976",
     "status": "completed"
    },
    "tags": []
   },
   "outputs": [
    {
     "data": {
      "image/png": "[encoded data removed]",
      "text/plain": [
       "<Figure size 432x432 with 3 Axes>"
      ]
     },
     "metadata": {
      "needs_background": "light"
     },
     "output_type": "display_data"
    }
   ],
   "source": [
    "sns.jointplot(x = \"sepal_width\", y = \"sepal_length\", data = df, color=\"orange\");"
   ]
  },
  {
   "cell_type": "markdown",
   "metadata": {
    "papermill": {
     "duration": 0.039077,
     "end_time": "2021-05-23T18:42:33.045730",
     "exception": false,
     "start_time": "2021-05-23T18:42:33.006653",
     "status": "completed"
    },
    "tags": []
   },
   "source": [
    "Aynı iki veriyi scatterplot ile tekrardan görselleştirelim fakat bu sefer \"species\" parametresi ile hedef değişkenine göre kırdıralım. \n",
    "\n",
    "3 farklı renk arasında sepal değişkenleriyle bir kümeleme yapılabilir mi? Ne kadar ayırt edilebilir bunun üzerine düşünelim."
   ]
  },
  {
   "cell_type": "code",
   "execution_count": 14,
   "metadata": {
    "execution": {
     "iopub.execute_input": "2021-05-23T18:42:33.146033Z",
     "iopub.status.busy": "2021-05-23T18:42:33.137833Z",
     "iopub.status.idle": "2021-05-23T18:42:33.405316Z",
     "shell.execute_reply": "2021-05-23T18:42:33.404672Z"
    },
    "papermill": {
     "duration": 0.320181,
     "end_time": "2021-05-23T18:42:33.405488",
     "exception": false,
     "start_time": "2021-05-23T18:42:33.085307",
     "status": "completed"
    },
    "tags": []
   },
   "outputs": [
    {
     "data": {
      "image/png": "[encoded data removed]",
      "text/plain": [
       "<Figure size 432x288 with 1 Axes>"
      ]
     },
     "metadata": {
      "needs_background": "light"
     },
     "output_type": "display_data"
    }
   ],
   "source": [
    "sns.scatterplot(x = \"sepal_width\", y = \"sepal_length\", hue = \"species\",  data = df); "
   ]
  },
  {
   "cell_type": "markdown",
   "metadata": {
    "papermill": {
     "duration": 0.041658,
     "end_time": "2021-05-23T18:42:33.488288",
     "exception": false,
     "start_time": "2021-05-23T18:42:33.446630",
     "status": "completed"
    },
    "tags": []
   },
   "source": [
    "value_counts() fonksiyonu ile veri çerçevemizin ne kadar dengeli dağıldığını sorgulayalım. "
   ]
  },
  {
   "cell_type": "code",
   "execution_count": 15,
   "metadata": {
    "execution": {
     "iopub.execute_input": "2021-05-23T18:42:33.579613Z",
     "iopub.status.busy": "2021-05-23T18:42:33.578721Z",
     "iopub.status.idle": "2021-05-23T18:42:33.583008Z",
     "shell.execute_reply": "2021-05-23T18:42:33.583456Z"
    },
    "papermill": {
     "duration": 0.053334,
     "end_time": "2021-05-23T18:42:33.583632",
     "exception": false,
     "start_time": "2021-05-23T18:42:33.530298",
     "status": "completed"
    },
    "tags": []
   },
   "outputs": [
    {
     "data": {
      "text/plain": [
       "Iris-setosa        50\n",
       "Iris-versicolor    50\n",
       "Iris-virginica     50\n",
       "Name: species, dtype: int64"
      ]
     },
     "execution_count": 15,
     "metadata": {},
     "output_type": "execute_result"
    }
   ],
   "source": [
    "df[\"species\"].value_counts()"
   ]
  },
  {
   "cell_type": "markdown",
   "metadata": {
    "papermill": {
     "duration": 0.041056,
     "end_time": "2021-05-23T18:42:33.665433",
     "exception": false,
     "start_time": "2021-05-23T18:42:33.624377",
     "status": "completed"
    },
    "tags": []
   },
   "source": [
    "Keman grafiği çizdirerek sepal.width değişkeninin dağılımını inceleyin. \n",
    "\n",
    "Söz konusu dağılım bizim için ne ifade ediyor, normal bir dağılım olduğunu söyleyebilir miyiz?"
   ]
  },
  {
   "cell_type": "code",
   "execution_count": 16,
   "metadata": {
    "execution": {
     "iopub.execute_input": "2021-05-23T18:42:33.783427Z",
     "iopub.status.busy": "2021-05-23T18:42:33.773025Z",
     "iopub.status.idle": "2021-05-23T18:42:33.889503Z",
     "shell.execute_reply": "2021-05-23T18:42:33.888822Z"
    },
    "papermill": {
     "duration": 0.182807,
     "end_time": "2021-05-23T18:42:33.889653",
     "exception": false,
     "start_time": "2021-05-23T18:42:33.706846",
     "status": "completed"
    },
    "tags": []
   },
   "outputs": [
    {
     "data": {
      "image/png": "[encoded data removed]",
      "text/plain": [
       "<Figure size 432x288 with 1 Axes>"
      ]
     },
     "metadata": {
      "needs_background": "light"
     },
     "output_type": "display_data"
    }
   ],
   "source": [
    "sns.violinplot(y = \"sepal_width\", data = df);   #Bu dağılım 3.0 değerinde yoğunluk olduğunu gösteriyor."
   ]
  },
  {
   "cell_type": "markdown",
   "metadata": {
    "papermill": {
     "duration": 0.042459,
     "end_time": "2021-05-23T18:42:33.974015",
     "exception": false,
     "start_time": "2021-05-23T18:42:33.931556",
     "status": "completed"
    },
    "tags": []
   },
   "source": [
    "Daha iyi anlayabilmek için sepal.width üzerine bir distplot çizdirelim."
   ]
  },
  {
   "cell_type": "code",
   "execution_count": 17,
   "metadata": {
    "execution": {
     "iopub.execute_input": "2021-05-23T18:42:34.066859Z",
     "iopub.status.busy": "2021-05-23T18:42:34.066078Z",
     "iopub.status.idle": "2021-05-23T18:42:34.260162Z",
     "shell.execute_reply": "2021-05-23T18:42:34.261135Z"
    },
    "papermill": {
     "duration": 0.244118,
     "end_time": "2021-05-23T18:42:34.261308",
     "exception": false,
     "start_time": "2021-05-23T18:42:34.017190",
     "status": "completed"
    },
    "tags": []
   },
   "outputs": [
    {
     "name": "stderr",
     "output_type": "stream",
     "text": [
      "/opt/conda/lib/python3.7/site-packages/seaborn/distributions.py:2557: FutureWarning: `distplot` is a deprecated function and will be removed in a future version. Please adapt your code to use either `displot` (a figure-level function with similar flexibility) or `histplot` (an axes-level function for histograms).\n",
      "  warnings.warn(msg, FutureWarning)\n"
     ]
    },
    {
     "data": {
      "image/png": "[encoded data removed]",
      "text/plain": [
       "<Figure size 432x288 with 1 Axes>"
      ]
     },
     "metadata": {
      "needs_background": "light"
     },
     "output_type": "display_data"
    }
   ],
   "source": [
    "sns.distplot(df[\"sepal_width\"], bins=16, color=\"orange\");"
   ]
  },
  {
   "cell_type": "markdown",
   "metadata": {
    "papermill": {
     "duration": 0.043901,
     "end_time": "2021-05-23T18:42:34.349565",
     "exception": false,
     "start_time": "2021-05-23T18:42:34.305664",
     "status": "completed"
    },
    "tags": []
   },
   "source": [
    "Üç çiçek türü için üç farklı keman grafiğini sepal.length değişkeninin dağılımı üzerine tek bir satır ile görselleştirelim."
   ]
  },
  {
   "cell_type": "code",
   "execution_count": 18,
   "metadata": {
    "execution": {
     "iopub.execute_input": "2021-05-23T18:42:34.445600Z",
     "iopub.status.busy": "2021-05-23T18:42:34.444596Z",
     "iopub.status.idle": "2021-05-23T18:42:34.600433Z",
     "shell.execute_reply": "2021-05-23T18:42:34.600917Z"
    },
    "papermill": {
     "duration": 0.208019,
     "end_time": "2021-05-23T18:42:34.601081",
     "exception": false,
     "start_time": "2021-05-23T18:42:34.393062",
     "status": "completed"
    },
    "tags": []
   },
   "outputs": [
    {
     "data": {
      "image/png": "[encoded data removed]",
      "text/plain": [
       "<Figure size 432x288 with 1 Axes>"
      ]
     },
     "metadata": {
      "needs_background": "light"
     },
     "output_type": "display_data"
    }
   ],
   "source": [
    "sns.violinplot(x = \"species\", y = \"sepal_length\", data = df);"
   ]
  },
  {
   "cell_type": "markdown",
   "metadata": {
    "papermill": {
     "duration": 0.044283,
     "end_time": "2021-05-23T18:42:34.689719",
     "exception": false,
     "start_time": "2021-05-23T18:42:34.645436",
     "status": "completed"
    },
    "tags": []
   },
   "source": [
    "Hangi çiçek türünden kaçar adet gözlem barındırıyor veri çerçevemiz?\n",
    "\n",
    "50 x 3 olduğunu ve dengeli olduğunu value_counts ile zaten görmüştük, ancak bunu görsel olarak ifade etmek için sns.countplot() fonksiyonuna species parametresini vereilm."
   ]
  },
  {
   "cell_type": "code",
   "execution_count": 19,
   "metadata": {
    "execution": {
     "iopub.execute_input": "2021-05-23T18:42:34.783245Z",
     "iopub.status.busy": "2021-05-23T18:42:34.782137Z",
     "iopub.status.idle": "2021-05-23T18:42:34.901641Z",
     "shell.execute_reply": "2021-05-23T18:42:34.902146Z"
    },
    "papermill": {
     "duration": 0.167966,
     "end_time": "2021-05-23T18:42:34.902348",
     "exception": false,
     "start_time": "2021-05-23T18:42:34.734382",
     "status": "completed"
    },
    "tags": []
   },
   "outputs": [
    {
     "data": {
      "image/png": "[encoded data removed]",
      "text/plain": [
       "<Figure size 432x288 with 1 Axes>"
      ]
     },
     "metadata": {
      "needs_background": "light"
     },
     "output_type": "display_data"
    }
   ],
   "source": [
    "sns.countplot(x = \"species\", data = df); "
   ]
  },
  {
   "cell_type": "markdown",
   "metadata": {
    "papermill": {
     "duration": 0.045798,
     "end_time": "2021-05-23T18:42:34.994149",
     "exception": false,
     "start_time": "2021-05-23T18:42:34.948351",
     "status": "completed"
    },
    "tags": []
   },
   "source": [
    "sepal.length ve sepal.width değişkenlerini sns.jointplot ile görselleştirelim, dağılımı ve dağılımın frekansı yüksek olduğu bölgelerini inceleyelim."
   ]
  },
  {
   "cell_type": "code",
   "execution_count": 20,
   "metadata": {
    "execution": {
     "iopub.execute_input": "2021-05-23T18:42:35.089743Z",
     "iopub.status.busy": "2021-05-23T18:42:35.088811Z",
     "iopub.status.idle": "2021-05-23T18:42:35.521429Z",
     "shell.execute_reply": "2021-05-23T18:42:35.520852Z"
    },
    "papermill": {
     "duration": 0.481055,
     "end_time": "2021-05-23T18:42:35.521605",
     "exception": false,
     "start_time": "2021-05-23T18:42:35.040550",
     "status": "completed"
    },
    "tags": []
   },
   "outputs": [
    {
     "data": {
      "image/png": "[encoded data removed]",
      "text/plain": [
       "<Figure size 432x432 with 3 Axes>"
      ]
     },
     "metadata": {
      "needs_background": "light"
     },
     "output_type": "display_data"
    }
   ],
   "source": [
    "sns.jointplot(x = df[\"sepal_length\"], y = df[\"sepal_width\"], color = \"purple\");"
   ]
  },
  {
   "cell_type": "markdown",
   "metadata": {
    "papermill": {
     "duration": 0.045575,
     "end_time": "2021-05-23T18:42:35.613676",
     "exception": false,
     "start_time": "2021-05-23T18:42:35.568101",
     "status": "completed"
    },
    "tags": []
   },
   "source": [
    "Bir önceki hücrede yapmış olduğumuz görselleştirmeye kind = \"kde\" parametresini ekleyelim. Böylelikle dağılımın noktalı gösterimden çıkıp yoğunluk odaklı bir görselleştirmeye dönüştüğünü görmüş olacağız."
   ]
  },
  {
   "cell_type": "code",
   "execution_count": 21,
   "metadata": {
    "execution": {
     "iopub.execute_input": "2021-05-23T18:42:35.711708Z",
     "iopub.status.busy": "2021-05-23T18:42:35.711084Z",
     "iopub.status.idle": "2021-05-23T18:42:36.262907Z",
     "shell.execute_reply": "2021-05-23T18:42:36.263411Z"
    },
    "papermill": {
     "duration": 0.603666,
     "end_time": "2021-05-23T18:42:36.263606",
     "exception": false,
     "start_time": "2021-05-23T18:42:35.659940",
     "status": "completed"
    },
    "tags": []
   },
   "outputs": [
    {
     "data": {
      "image/png": "[encoded data removed]",
      "text/plain": [
       "<Figure size 432x432 with 3 Axes>"
      ]
     },
     "metadata": {
      "needs_background": "light"
     },
     "output_type": "display_data"
    }
   ],
   "source": [
    "sns.jointplot(x = df[\"sepal_length\"], y = df[\"sepal_width\"], kind = \"kde\", color = \"purple\");"
   ]
  },
  {
   "cell_type": "markdown",
   "metadata": {
    "papermill": {
     "duration": 0.048923,
     "end_time": "2021-05-23T18:42:36.362086",
     "exception": false,
     "start_time": "2021-05-23T18:42:36.313163",
     "status": "completed"
    },
    "tags": []
   },
   "source": [
    "scatterplot ile petal.length ve petal.width değişkenlerinin dağılımlarını çizdirelim."
   ]
  },
  {
   "cell_type": "code",
   "execution_count": 22,
   "metadata": {
    "execution": {
     "iopub.execute_input": "2021-05-23T18:42:36.486922Z",
     "iopub.status.busy": "2021-05-23T18:42:36.486243Z",
     "iopub.status.idle": "2021-05-23T18:42:36.625434Z",
     "shell.execute_reply": "2021-05-23T18:42:36.624775Z"
    },
    "papermill": {
     "duration": 0.214753,
     "end_time": "2021-05-23T18:42:36.625586",
     "exception": false,
     "start_time": "2021-05-23T18:42:36.410833",
     "status": "completed"
    },
    "tags": []
   },
   "outputs": [
    {
     "data": {
      "image/png": "[encoded data removed]",
      "text/plain": [
       "<Figure size 432x288 with 1 Axes>"
      ]
     },
     "metadata": {
      "needs_background": "light"
     },
     "output_type": "display_data"
    }
   ],
   "source": [
    "sns.scatterplot(x = \"petal_length\", y = \"petal_width\", data = df);"
   ]
  },
  {
   "cell_type": "markdown",
   "metadata": {
    "papermill": {
     "duration": 0.048791,
     "end_time": "2021-05-23T18:42:36.723720",
     "exception": false,
     "start_time": "2021-05-23T18:42:36.674929",
     "status": "completed"
    },
    "tags": []
   },
   "source": [
    "Aynı görselleştirmeye hue = \"species\" parametresini ekleyerek 3. bir boyut verelim."
   ]
  },
  {
   "cell_type": "code",
   "execution_count": 23,
   "metadata": {
    "execution": {
     "iopub.execute_input": "2021-05-23T18:42:37.007621Z",
     "iopub.status.busy": "2021-05-23T18:42:36.996195Z",
     "iopub.status.idle": "2021-05-23T18:42:37.242114Z",
     "shell.execute_reply": "2021-05-23T18:42:37.241565Z"
    },
    "papermill": {
     "duration": 0.469535,
     "end_time": "2021-05-23T18:42:37.242300",
     "exception": false,
     "start_time": "2021-05-23T18:42:36.772765",
     "status": "completed"
    },
    "tags": []
   },
   "outputs": [
    {
     "data": {
      "image/png": "[encoded data removed]",
      "text/plain": [
       "<Figure size 432x288 with 1 Axes>"
      ]
     },
     "metadata": {
      "needs_background": "light"
     },
     "output_type": "display_data"
    }
   ],
   "source": [
    "sns.scatterplot(x = \"petal_length\", y = \"petal_width\", hue = \"species\", data = df);"
   ]
  },
  {
   "cell_type": "markdown",
   "metadata": {
    "papermill": {
     "duration": 0.05127,
     "end_time": "2021-05-23T18:42:37.345002",
     "exception": false,
     "start_time": "2021-05-23T18:42:37.293732",
     "status": "completed"
    },
    "tags": []
   },
   "source": [
    "sns.lmplot() görselleştirmesini petal.length ve petal.width değişkenleriyle implemente edelim. Petal length ile petal width arasında ne tür bir ilişki var ve bu ilişki güçlü müdür? sorusunu yanıtlayalım."
   ]
  },
  {
   "cell_type": "code",
   "execution_count": 24,
   "metadata": {
    "execution": {
     "iopub.execute_input": "2021-05-23T18:42:37.476562Z",
     "iopub.status.busy": "2021-05-23T18:42:37.475519Z",
     "iopub.status.idle": "2021-05-23T18:42:37.771791Z",
     "shell.execute_reply": "2021-05-23T18:42:37.772351Z"
    },
    "papermill": {
     "duration": 0.37303,
     "end_time": "2021-05-23T18:42:37.772550",
     "exception": false,
     "start_time": "2021-05-23T18:42:37.399520",
     "status": "completed"
    },
    "tags": []
   },
   "outputs": [
    {
     "data": {
      "image/png": "[encoded data removed]",
      "text/plain": [
       "<Figure size 360x360 with 1 Axes>"
      ]
     },
     "metadata": {
      "needs_background": "light"
     },
     "output_type": "display_data"
    }
   ],
   "source": [
    "sns.lmplot(x = \"petal_length\", y = \"petal_width\", data = df,);  #Pozitif yönde güçlü ilişki vardır."
   ]
  },
  {
   "cell_type": "markdown",
   "metadata": {
    "papermill": {
     "duration": 0.051774,
     "end_time": "2021-05-23T18:42:37.876028",
     "exception": false,
     "start_time": "2021-05-23T18:42:37.824254",
     "status": "completed"
    },
    "tags": []
   },
   "source": [
    "Bu sorunun yanıtını pekiştirmek için iki değişken arasında korelasyon katsayısını yazdıralım. "
   ]
  },
  {
   "cell_type": "code",
   "execution_count": 25,
   "metadata": {
    "execution": {
     "iopub.execute_input": "2021-05-23T18:42:37.987730Z",
     "iopub.status.busy": "2021-05-23T18:42:37.986836Z",
     "iopub.status.idle": "2021-05-23T18:42:37.991585Z",
     "shell.execute_reply": "2021-05-23T18:42:37.991026Z"
    },
    "papermill": {
     "duration": 0.063483,
     "end_time": "2021-05-23T18:42:37.991740",
     "exception": false,
     "start_time": "2021-05-23T18:42:37.928257",
     "status": "completed"
    },
    "tags": []
   },
   "outputs": [
    {
     "data": {
      "text/plain": [
       "0.9627570970509662"
      ]
     },
     "execution_count": 25,
     "metadata": {},
     "output_type": "execute_result"
    }
   ],
   "source": [
    "df.corr()[\"petal_length\"][\"petal_width\"]"
   ]
  },
  {
   "cell_type": "markdown",
   "metadata": {
    "papermill": {
     "duration": 0.052374,
     "end_time": "2021-05-23T18:42:38.097169",
     "exception": false,
     "start_time": "2021-05-23T18:42:38.044795",
     "status": "completed"
    },
    "tags": []
   },
   "source": [
    "Petal Length ile Sepal Length değerlerini toplayarak yeni bir total length özniteliği oluşturalım."
   ]
  },
  {
   "cell_type": "code",
   "execution_count": 26,
   "metadata": {
    "execution": {
     "iopub.execute_input": "2021-05-23T18:42:38.211060Z",
     "iopub.status.busy": "2021-05-23T18:42:38.210418Z",
     "iopub.status.idle": "2021-05-23T18:42:38.213952Z",
     "shell.execute_reply": "2021-05-23T18:42:38.213443Z"
    },
    "papermill": {
     "duration": 0.062483,
     "end_time": "2021-05-23T18:42:38.214121",
     "exception": false,
     "start_time": "2021-05-23T18:42:38.151638",
     "status": "completed"
    },
    "tags": []
   },
   "outputs": [],
   "source": [
    "df['total.length']=df['petal_length']+df['sepal_length']"
   ]
  },
  {
   "cell_type": "markdown",
   "metadata": {
    "papermill": {
     "duration": 0.052754,
     "end_time": "2021-05-23T18:42:38.319912",
     "exception": false,
     "start_time": "2021-05-23T18:42:38.267158",
     "status": "completed"
    },
    "tags": []
   },
   "source": [
    "total.length'in ortalama değerini yazdıralım. "
   ]
  },
  {
   "cell_type": "code",
   "execution_count": 27,
   "metadata": {
    "execution": {
     "iopub.execute_input": "2021-05-23T18:42:38.432261Z",
     "iopub.status.busy": "2021-05-23T18:42:38.431350Z",
     "iopub.status.idle": "2021-05-23T18:42:38.435909Z",
     "shell.execute_reply": "2021-05-23T18:42:38.435279Z"
    },
    "papermill": {
     "duration": 0.063202,
     "end_time": "2021-05-23T18:42:38.436059",
     "exception": false,
     "start_time": "2021-05-23T18:42:38.372857",
     "status": "completed"
    },
    "tags": []
   },
   "outputs": [
    {
     "data": {
      "text/plain": [
       "9.602000000000004"
      ]
     },
     "execution_count": 27,
     "metadata": {},
     "output_type": "execute_result"
    }
   ],
   "source": [
    "df['total.length'].mean()"
   ]
  },
  {
   "cell_type": "markdown",
   "metadata": {
    "papermill": {
     "duration": 0.052998,
     "end_time": "2021-05-23T18:42:38.542300",
     "exception": false,
     "start_time": "2021-05-23T18:42:38.489302",
     "status": "completed"
    },
    "tags": []
   },
   "source": [
    "total.length'in standart sapma değerini yazdıralım."
   ]
  },
  {
   "cell_type": "code",
   "execution_count": 28,
   "metadata": {
    "execution": {
     "iopub.execute_input": "2021-05-23T18:42:38.653745Z",
     "iopub.status.busy": "2021-05-23T18:42:38.652817Z",
     "iopub.status.idle": "2021-05-23T18:42:38.658532Z",
     "shell.execute_reply": "2021-05-23T18:42:38.659076Z"
    },
    "papermill": {
     "duration": 0.063836,
     "end_time": "2021-05-23T18:42:38.659293",
     "exception": false,
     "start_time": "2021-05-23T18:42:38.595457",
     "status": "completed"
    },
    "tags": []
   },
   "outputs": [
    {
     "data": {
      "text/plain": [
       "2.5191739884121978"
      ]
     },
     "execution_count": 28,
     "metadata": {},
     "output_type": "execute_result"
    }
   ],
   "source": [
    "df['total.length'].std()"
   ]
  },
  {
   "cell_type": "markdown",
   "metadata": {
    "papermill": {
     "duration": 0.052939,
     "end_time": "2021-05-23T18:42:38.765710",
     "exception": false,
     "start_time": "2021-05-23T18:42:38.712771",
     "status": "completed"
    },
    "tags": []
   },
   "source": [
    "sepal.length'in maksimum değerini yazdıralım."
   ]
  },
  {
   "cell_type": "code",
   "execution_count": 29,
   "metadata": {
    "execution": {
     "iopub.execute_input": "2021-05-23T18:42:38.876110Z",
     "iopub.status.busy": "2021-05-23T18:42:38.875458Z",
     "iopub.status.idle": "2021-05-23T18:42:38.881699Z",
     "shell.execute_reply": "2021-05-23T18:42:38.881059Z"
    },
    "papermill": {
     "duration": 0.062604,
     "end_time": "2021-05-23T18:42:38.881848",
     "exception": false,
     "start_time": "2021-05-23T18:42:38.819244",
     "status": "completed"
    },
    "tags": []
   },
   "outputs": [
    {
     "data": {
      "text/plain": [
       "7.9"
      ]
     },
     "execution_count": 29,
     "metadata": {},
     "output_type": "execute_result"
    }
   ],
   "source": [
    "df['sepal_length'].max()"
   ]
  },
  {
   "cell_type": "markdown",
   "metadata": {
    "papermill": {
     "duration": 0.05408,
     "end_time": "2021-05-23T18:42:38.990910",
     "exception": false,
     "start_time": "2021-05-23T18:42:38.936830",
     "status": "completed"
    },
    "tags": []
   },
   "source": [
    "sepal.length'i 5.5'den büyük ve türü setosa olan gözlemleri yazdıralım."
   ]
  },
  {
   "cell_type": "code",
   "execution_count": 30,
   "metadata": {
    "execution": {
     "iopub.execute_input": "2021-05-23T18:42:39.139741Z",
     "iopub.status.busy": "2021-05-23T18:42:39.139039Z",
     "iopub.status.idle": "2021-05-23T18:42:39.142232Z",
     "shell.execute_reply": "2021-05-23T18:42:39.142752Z"
    },
    "papermill": {
     "duration": 0.0968,
     "end_time": "2021-05-23T18:42:39.142950",
     "exception": false,
     "start_time": "2021-05-23T18:42:39.046150",
     "status": "completed"
    },
    "tags": []
   },
   "outputs": [
    {
     "data": {
      "text/html": [
       "<div>\n",
       "<style scoped>\n",
       "    .dataframe tbody tr th:only-of-type {\n",
       "        vertical-align: middle;\n",
       "    }\n",
       "\n",
       "    .dataframe tbody tr th {\n",
       "        vertical-align: top;\n",
       "    }\n",
       "\n",
       "    .dataframe thead th {\n",
       "        text-align: right;\n",
       "    }\n",
       "</style>\n",
       "<table border=\"1\" class=\"dataframe\">\n",
       "  <thead>\n",
       "    <tr style=\"text-align: right;\">\n",
       "      <th></th>\n",
       "      <th>sepal_length</th>\n",
       "      <th>sepal_width</th>\n",
       "      <th>petal_length</th>\n",
       "      <th>petal_width</th>\n",
       "      <th>species</th>\n",
       "      <th>total.length</th>\n",
       "    </tr>\n",
       "  </thead>\n",
       "  <tbody>\n",
       "    <tr>\n",
       "      <th>14</th>\n",
       "      <td>5.8</td>\n",
       "      <td>4.0</td>\n",
       "      <td>1.2</td>\n",
       "      <td>0.2</td>\n",
       "      <td>Iris-setosa</td>\n",
       "      <td>7.0</td>\n",
       "    </tr>\n",
       "    <tr>\n",
       "      <th>15</th>\n",
       "      <td>5.7</td>\n",
       "      <td>4.4</td>\n",
       "      <td>1.5</td>\n",
       "      <td>0.4</td>\n",
       "      <td>Iris-setosa</td>\n",
       "      <td>7.2</td>\n",
       "    </tr>\n",
       "    <tr>\n",
       "      <th>18</th>\n",
       "      <td>5.7</td>\n",
       "      <td>3.8</td>\n",
       "      <td>1.7</td>\n",
       "      <td>0.3</td>\n",
       "      <td>Iris-setosa</td>\n",
       "      <td>7.4</td>\n",
       "    </tr>\n",
       "  </tbody>\n",
       "</table>\n",
       "</div>"
      ],
      "text/plain": [
       "    sepal_length  sepal_width  petal_length  petal_width      species  \\\n",
       "14           5.8          4.0           1.2          0.2  Iris-setosa   \n",
       "15           5.7          4.4           1.5          0.4  Iris-setosa   \n",
       "18           5.7          3.8           1.7          0.3  Iris-setosa   \n",
       "\n",
       "    total.length  \n",
       "14           7.0  \n",
       "15           7.2  \n",
       "18           7.4  "
      ]
     },
     "execution_count": 30,
     "metadata": {},
     "output_type": "execute_result"
    }
   ],
   "source": [
    "df[(df[\"sepal_length\"] > 5.5 ) & (df[\"species\"] == \"Iris-setosa\")]"
   ]
  },
  {
   "cell_type": "markdown",
   "metadata": {
    "papermill": {
     "duration": 0.054928,
     "end_time": "2021-05-23T18:42:39.252777",
     "exception": false,
     "start_time": "2021-05-23T18:42:39.197849",
     "status": "completed"
    },
    "tags": []
   },
   "source": [
    "petal.length'i 5'den küçük ve türü virginica olan gözlemlerin sadece sepal.length ve sepal.width değişkenlerini ve değerlerini yazdıralım."
   ]
  },
  {
   "cell_type": "code",
   "execution_count": 31,
   "metadata": {
    "execution": {
     "iopub.execute_input": "2021-05-23T18:42:39.366310Z",
     "iopub.status.busy": "2021-05-23T18:42:39.365703Z",
     "iopub.status.idle": "2021-05-23T18:42:39.377689Z",
     "shell.execute_reply": "2021-05-23T18:42:39.378161Z"
    },
    "papermill": {
     "duration": 0.070191,
     "end_time": "2021-05-23T18:42:39.378366",
     "exception": false,
     "start_time": "2021-05-23T18:42:39.308175",
     "status": "completed"
    },
    "tags": []
   },
   "outputs": [
    {
     "data": {
      "text/html": [
       "<div>\n",
       "<style scoped>\n",
       "    .dataframe tbody tr th:only-of-type {\n",
       "        vertical-align: middle;\n",
       "    }\n",
       "\n",
       "    .dataframe tbody tr th {\n",
       "        vertical-align: top;\n",
       "    }\n",
       "\n",
       "    .dataframe thead th {\n",
       "        text-align: right;\n",
       "    }\n",
       "</style>\n",
       "<table border=\"1\" class=\"dataframe\">\n",
       "  <thead>\n",
       "    <tr style=\"text-align: right;\">\n",
       "      <th></th>\n",
       "      <th>sepal_length</th>\n",
       "      <th>sepal_width</th>\n",
       "    </tr>\n",
       "  </thead>\n",
       "  <tbody>\n",
       "    <tr>\n",
       "      <th>106</th>\n",
       "      <td>4.9</td>\n",
       "      <td>2.5</td>\n",
       "    </tr>\n",
       "    <tr>\n",
       "      <th>121</th>\n",
       "      <td>5.6</td>\n",
       "      <td>2.8</td>\n",
       "    </tr>\n",
       "    <tr>\n",
       "      <th>123</th>\n",
       "      <td>6.3</td>\n",
       "      <td>2.7</td>\n",
       "    </tr>\n",
       "    <tr>\n",
       "      <th>126</th>\n",
       "      <td>6.2</td>\n",
       "      <td>2.8</td>\n",
       "    </tr>\n",
       "    <tr>\n",
       "      <th>127</th>\n",
       "      <td>6.1</td>\n",
       "      <td>3.0</td>\n",
       "    </tr>\n",
       "    <tr>\n",
       "      <th>138</th>\n",
       "      <td>6.0</td>\n",
       "      <td>3.0</td>\n",
       "    </tr>\n",
       "  </tbody>\n",
       "</table>\n",
       "</div>"
      ],
      "text/plain": [
       "     sepal_length  sepal_width\n",
       "106           4.9          2.5\n",
       "121           5.6          2.8\n",
       "123           6.3          2.7\n",
       "126           6.2          2.8\n",
       "127           6.1          3.0\n",
       "138           6.0          3.0"
      ]
     },
     "execution_count": 31,
     "metadata": {},
     "output_type": "execute_result"
    }
   ],
   "source": [
    "df[(df[\"petal_length\"] < 5 ) & (df[\"species\"] == \"Iris-virginica\")][[\"sepal_length\",\"sepal_width\"]]"
   ]
  },
  {
   "cell_type": "markdown",
   "metadata": {
    "papermill": {
     "duration": 0.054801,
     "end_time": "2021-05-23T18:42:39.488866",
     "exception": false,
     "start_time": "2021-05-23T18:42:39.434065",
     "status": "completed"
    },
    "tags": []
   },
   "source": [
    "Hedef değişkenimiz species'e göre bir gruplama işlemi yapalım değişken değerlerimizin ortalamasını görüntüleyelim."
   ]
  },
  {
   "cell_type": "code",
   "execution_count": 32,
   "metadata": {
    "execution": {
     "iopub.execute_input": "2021-05-23T18:42:39.602121Z",
     "iopub.status.busy": "2021-05-23T18:42:39.601504Z",
     "iopub.status.idle": "2021-05-23T18:42:39.614743Z",
     "shell.execute_reply": "2021-05-23T18:42:39.615240Z"
    },
    "papermill": {
     "duration": 0.071608,
     "end_time": "2021-05-23T18:42:39.615460",
     "exception": false,
     "start_time": "2021-05-23T18:42:39.543852",
     "status": "completed"
    },
    "tags": []
   },
   "outputs": [
    {
     "data": {
      "text/html": [
       "<div>\n",
       "<style scoped>\n",
       "    .dataframe tbody tr th:only-of-type {\n",
       "        vertical-align: middle;\n",
       "    }\n",
       "\n",
       "    .dataframe tbody tr th {\n",
       "        vertical-align: top;\n",
       "    }\n",
       "\n",
       "    .dataframe thead th {\n",
       "        text-align: right;\n",
       "    }\n",
       "</style>\n",
       "<table border=\"1\" class=\"dataframe\">\n",
       "  <thead>\n",
       "    <tr style=\"text-align: right;\">\n",
       "      <th></th>\n",
       "      <th>sepal_length</th>\n",
       "      <th>sepal_width</th>\n",
       "      <th>petal_length</th>\n",
       "      <th>petal_width</th>\n",
       "      <th>total.length</th>\n",
       "    </tr>\n",
       "    <tr>\n",
       "      <th>species</th>\n",
       "      <th></th>\n",
       "      <th></th>\n",
       "      <th></th>\n",
       "      <th></th>\n",
       "      <th></th>\n",
       "    </tr>\n",
       "  </thead>\n",
       "  <tbody>\n",
       "    <tr>\n",
       "      <th>Iris-setosa</th>\n",
       "      <td>5.006</td>\n",
       "      <td>3.418</td>\n",
       "      <td>1.464</td>\n",
       "      <td>0.244</td>\n",
       "      <td>6.470</td>\n",
       "    </tr>\n",
       "    <tr>\n",
       "      <th>Iris-versicolor</th>\n",
       "      <td>5.936</td>\n",
       "      <td>2.770</td>\n",
       "      <td>4.260</td>\n",
       "      <td>1.326</td>\n",
       "      <td>10.196</td>\n",
       "    </tr>\n",
       "    <tr>\n",
       "      <th>Iris-virginica</th>\n",
       "      <td>6.588</td>\n",
       "      <td>2.974</td>\n",
       "      <td>5.552</td>\n",
       "      <td>2.026</td>\n",
       "      <td>12.140</td>\n",
       "    </tr>\n",
       "  </tbody>\n",
       "</table>\n",
       "</div>"
      ],
      "text/plain": [
       "                 sepal_length  sepal_width  petal_length  petal_width  \\\n",
       "species                                                                 \n",
       "Iris-setosa             5.006        3.418         1.464        0.244   \n",
       "Iris-versicolor         5.936        2.770         4.260        1.326   \n",
       "Iris-virginica          6.588        2.974         5.552        2.026   \n",
       "\n",
       "                 total.length  \n",
       "species                        \n",
       "Iris-setosa             6.470  \n",
       "Iris-versicolor        10.196  \n",
       "Iris-virginica         12.140  "
      ]
     },
     "execution_count": 32,
     "metadata": {},
     "output_type": "execute_result"
    }
   ],
   "source": [
    "df.groupby([\"species\"]).mean() "
   ]
  },
  {
   "cell_type": "markdown",
   "metadata": {
    "papermill": {
     "duration": 0.055411,
     "end_time": "2021-05-23T18:42:39.727355",
     "exception": false,
     "start_time": "2021-05-23T18:42:39.671944",
     "status": "completed"
    },
    "tags": []
   },
   "source": [
    "Hedef değişkenimiz species'e göre gruplama işlemi yaparak sadece petal.length değişkenimizin standart sapma değerlerini yazdıralım. "
   ]
  },
  {
   "cell_type": "code",
   "execution_count": 33,
   "metadata": {
    "execution": {
     "iopub.execute_input": "2021-05-23T18:42:39.843146Z",
     "iopub.status.busy": "2021-05-23T18:42:39.842506Z",
     "iopub.status.idle": "2021-05-23T18:42:39.850245Z",
     "shell.execute_reply": "2021-05-23T18:42:39.850933Z"
    },
    "papermill": {
     "duration": 0.067455,
     "end_time": "2021-05-23T18:42:39.851107",
     "exception": false,
     "start_time": "2021-05-23T18:42:39.783652",
     "status": "completed"
    },
    "tags": []
   },
   "outputs": [
    {
     "data": {
      "text/plain": [
       "species\n",
       "Iris-setosa        0.173511\n",
       "Iris-versicolor    0.469911\n",
       "Iris-virginica     0.551895\n",
       "Name: petal_length, dtype: float64"
      ]
     },
     "execution_count": 33,
     "metadata": {},
     "output_type": "execute_result"
    }
   ],
   "source": [
    "df.groupby([\"species\"])[\"petal_length\"].std() "
   ]
  },
  {
   "cell_type": "markdown",
   "metadata": {
    "papermill": {
     "duration": 0.056097,
     "end_time": "2021-05-23T18:42:39.962939",
     "exception": false,
     "start_time": "2021-05-23T18:42:39.906842",
     "status": "completed"
    },
    "tags": []
   },
   "source": [
    "Emeğiniz, ayırdığınız vakit ve ilginiz için teşekkürler."
   ]
  }
 ],
 "metadata": {
  "kernelspec": {
   "display_name": "Python 3",
   "language": "python",
   "name": "python3"
  },
  "language_info": {
   "codemirror_mode": {
    "name": "ipython",
    "version": 3
   },
   "file_extension": ".py",
   "mimetype": "text/x-python",
   "name": "python",
   "nbconvert_exporter": "python",
   "pygments_lexer": "ipython3",
   "version": "3.8.5"
  },
  "papermill": {
   "default_parameters": {},
   "duration": 17.49515,
   "end_time": "2021-05-23T18:42:40.631174",
   "environment_variables": {},
   "exception": null,
   "input_path": "__notebook__.ipynb",
   "output_path": "__notebook__.ipynb",
   "parameters": {},
   "start_time": "2021-05-23T18:42:23.136024",
   "version": "2.2.2"
  }
 },
 "nbformat": 4,
 "nbformat_minor": 4
}
